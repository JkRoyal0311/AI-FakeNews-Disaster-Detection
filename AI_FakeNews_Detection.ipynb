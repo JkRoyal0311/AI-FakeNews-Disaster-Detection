import pandas as pd
import numpy as np
import nltk
import spacy
import torch
from transformers import pipeline

nltk.download('stopwords')
from nltk.corpus import stopwords

sample_tweets = [
    "Flood in Assam!! Please help us #AssamFloods",
    "Fake donation link spreading on WhatsApp"
]

cleaned = [tweet.lower().replace("!", "").replace("#", "") for tweet in sample_tweets]
print("Original:", sample_tweets)
print("Cleaned:", cleaned)
